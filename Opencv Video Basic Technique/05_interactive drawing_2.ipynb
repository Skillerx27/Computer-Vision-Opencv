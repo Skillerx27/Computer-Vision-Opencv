{
 "cells": [
  {
   "cell_type": "code",
   "execution_count": 1,
   "metadata": {},
   "outputs": [
    {
     "ename": "SyntaxError",
     "evalue": "invalid syntax (<ipython-input-1-7a2f57536e49>, line 11)",
     "output_type": "error",
     "traceback": [
      "\u001b[1;36m  File \u001b[1;32m\"<ipython-input-1-7a2f57536e49>\"\u001b[1;36m, line \u001b[1;32m11\u001b[0m\n\u001b[1;33m    if event == cv2.EVENT_LBUTTONDOWN\u001b[0m\n\u001b[1;37m                                     ^\u001b[0m\n\u001b[1;31mSyntaxError\u001b[0m\u001b[1;31m:\u001b[0m invalid syntax\n"
     ]
    }
   ],
   "source": [
    "# Import Library\n",
    "import cv2\n",
    "\n",
    "# Callback Function for the Mouse, Circle\n",
    "def  draw_circle(event,\n",
    "                x,y,flags,param):\n",
    "\n",
    "\n",
    "    global center,clicked\n",
    "    # Get the Mouse Click Down & Up\n",
    "    # and Track the Center\n",
    "    if event == cv2.EVENT_LBUTTONDOWN\n",
    "        center = (x,y)\n",
    "        clicked = False\n",
    "    \n",
    "    if event == cv2.EVENT_LBUTTONUP:\n",
    "        clicked = True\n",
    "    \n",
    "# Zero Drawing of the Circle\n",
    "center =(0,0)\n",
    "clicked = False\n",
    "\n",
    "\n",
    "# Take a video\n",
    "cap = cv2.VideoCapture(0)\n",
    "\n",
    "\n",
    "# Create a Named Window for the Connections\n",
    "cv2.namedWIndow('Testing')\n",
    "\n",
    "# Bind our Function with the Mouse Clicks\n",
    "cv2.setMouseCallback('Testing',\n",
    "                    draw_circle)\n",
    "\n",
    "\n",
    "# Time for Magic\n",
    "while True:\n",
    "    \n",
    "    \n",
    "    # Capture the frame\n",
    "    ret, frame = cap.read()\n",
    "    \n",
    "    # Check if Clicked is True\n",
    "    if clicked:\n",
    "    \n",
    "        # Draw a Circle on the Frame\n",
    "        cv2.circle(frame,\n",
    "                  center = center,\n",
    "                  raidus=50,\n",
    "                  color=(255,0,255),\n",
    "                  thickness = 3)\n",
    "        \n",
    "    # Display the Frame\n",
    "    cv2.imshow('testing',frame)\n",
    "    \n",
    "    # 27 == esc button. You can use any other button like ord('q')\n",
    "    # If you try to close the window pressing the x you'll get in trouble (^_^)\n",
    "    if cv2.waitKey(5) & 0xFF == 27:\n",
    "        break\n",
    "    \n",
    "    \n",
    "# Never forget first to release\n",
    "# And then to destroy   \n",
    "cap.release()\n",
    "cv2.destroyAllWindows()\n",
    "\n",
    "\n"
   ]
  },
  {
   "cell_type": "code",
   "execution_count": null,
   "metadata": {},
   "outputs": [],
   "source": []
  }
 ],
 "metadata": {
  "kernelspec": {
   "display_name": "Python 3",
   "language": "python",
   "name": "python3"
  },
  "language_info": {
   "codemirror_mode": {
    "name": "ipython",
    "version": 3
   },
   "file_extension": ".py",
   "mimetype": "text/x-python",
   "name": "python",
   "nbconvert_exporter": "python",
   "pygments_lexer": "ipython3",
   "version": "3.7.4"
  }
 },
 "nbformat": 4,
 "nbformat_minor": 4
}
